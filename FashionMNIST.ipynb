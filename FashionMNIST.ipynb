{
  "nbformat": 4,
  "nbformat_minor": 0,
  "metadata": {
    "colab": {
      "name": "FashionMNIST.ipynb",
      "provenance": []
    },
    "kernelspec": {
      "name": "python3",
      "display_name": "Python 3"
    },
    "accelerator": "GPU"
  },
  "cells": [
    {
      "cell_type": "code",
      "metadata": {
        "id": "aCQeG03mRxnA"
      },
      "source": [
        "import torch\r\n",
        "import torchvision # provide access to datasets, models, transforms, utils, etc\r\n",
        "import torchvision.transforms as transforms\r\n",
        "import numpy as np\r\n",
        "import matplotlib.pyplot as plt"
      ],
      "execution_count": 1,
      "outputs": []
    },
    {
      "cell_type": "code",
      "metadata": {
        "id": "hz0OwcvrSPMv"
      },
      "source": [
        "# now let's work with FashionMnist\r\n",
        "\r\n",
        "train_set = torchvision.datasets.FashionMNIST(\r\n",
        "    root='./data'\r\n",
        "    ,train=True\r\n",
        "    ,download=True\r\n",
        "    ,transform=transforms.Compose([\r\n",
        "        transforms.ToTensor()\r\n",
        "    ])\r\n",
        ")"
      ],
      "execution_count": 2,
      "outputs": []
    },
    {
      "cell_type": "code",
      "metadata": {
        "id": "4DdYqzY4SQm0"
      },
      "source": [
        "train_loader = torch.utils.data.DataLoader(train_set\r\n",
        "    ,batch_size=10\r\n",
        "    ,shuffle=True\r\n",
        ")"
      ],
      "execution_count": 3,
      "outputs": []
    },
    {
      "cell_type": "code",
      "metadata": {
        "colab": {
          "base_uri": "https://localhost:8080/"
        },
        "id": "3QvXiolfSVY2",
        "outputId": "b7fc2032-5d99-4963-b781-46e00b98e75d"
      },
      "source": [
        "print(len(train_set))\r\n",
        "print(train_set.train_labels)\r\n",
        "print(train_set.train_labels.bincount())"
      ],
      "execution_count": 4,
      "outputs": [
        {
          "output_type": "stream",
          "text": [
            "60000\n",
            "tensor([9, 0, 0,  ..., 3, 0, 5])\n",
            "tensor([6000, 6000, 6000, 6000, 6000, 6000, 6000, 6000, 6000, 6000])\n"
          ],
          "name": "stdout"
        },
        {
          "output_type": "stream",
          "text": [
            "/usr/local/lib/python3.6/dist-packages/torchvision/datasets/mnist.py:48: UserWarning: train_labels has been renamed targets\n",
            "  warnings.warn(\"train_labels has been renamed targets\")\n"
          ],
          "name": "stderr"
        }
      ]
    },
    {
      "cell_type": "code",
      "metadata": {
        "id": "Rgp6AUVTS6jM"
      },
      "source": [
        "import torch.nn.functional as F\r\n",
        "import torch.nn as nn\r\n",
        "class Network(nn.Module):\r\n",
        "    def __init__(self):\r\n",
        "        super().__init__()\r\n",
        "        self.conv1 = nn.Conv2d(in_channels=1, out_channels=6, kernel_size=5)\r\n",
        "        self.conv2 = nn.Conv2d(in_channels=6, out_channels=12, kernel_size=5)\r\n",
        "\r\n",
        "        self.fc1 = nn.Linear(in_features=12 * 4 * 4, out_features=120)\r\n",
        "        self.fc2 = nn.Linear(in_features=120, out_features=60)\r\n",
        "        self.out = nn.Linear(in_features=60, out_features=10)\r\n",
        "\r\n",
        "    def forward(self, t):\r\n",
        "        # (1) input layer\r\n",
        "        t = t\r\n",
        "\r\n",
        "        # (2) hidden conv layer\r\n",
        "        t = self.conv1(t)\r\n",
        "        t = F.relu(t)\r\n",
        "        t = F.max_pool2d(t, kernel_size=2, stride=2)\r\n",
        "\r\n",
        "        # (3) hidden conv layer\r\n",
        "        t = self.conv2(t)\r\n",
        "        t = F.relu(t)\r\n",
        "        t = F.max_pool2d(t, kernel_size=2, stride=2)\r\n",
        "\r\n",
        "        # (4) hidden linear layer\r\n",
        "        t = t.reshape(-1, 12 * 4 * 4)\r\n",
        "        t = self.fc1(t)\r\n",
        "        t = F.relu(t)\r\n",
        "\r\n",
        "        # (5) hidden linear layer\r\n",
        "        t = self.fc2(t)\r\n",
        "        t = F.relu(t)\r\n",
        "\r\n",
        "        # (6) output layer\r\n",
        "        t = self.out(t)\r\n",
        "        t = F.softmax(t, dim=1)\r\n",
        "\r\n",
        "        return t"
      ],
      "execution_count": 5,
      "outputs": []
    },
    {
      "cell_type": "code",
      "metadata": {
        "id": "qYIMqElkTFl7"
      },
      "source": [
        "def get_num_correct(preds, labels):\r\n",
        "  #print(preds, labels)\r\n",
        "  #print(preds.argmax(dim=1).eq(labels).sum().item())\r\n",
        "  return preds.argmax(dim=1).eq(labels).sum().item()"
      ],
      "execution_count": 6,
      "outputs": []
    },
    {
      "cell_type": "code",
      "metadata": {
        "colab": {
          "base_uri": "https://localhost:8080/"
        },
        "id": "D_PPI5sTTa8l",
        "outputId": "7c8ea515-0912-43a5-ae3b-a6760d20af97"
      },
      "source": [
        "import torch.optim as optim\r\n",
        "\r\n",
        "torch.set_grad_enabled(True)\r\n"
      ],
      "execution_count": 7,
      "outputs": [
        {
          "output_type": "execute_result",
          "data": {
            "text/plain": [
              "<torch.autograd.grad_mode.set_grad_enabled at 0x7fc932df5710>"
            ]
          },
          "metadata": {
            "tags": []
          },
          "execution_count": 7
        }
      ]
    },
    {
      "cell_type": "code",
      "metadata": {
        "id": "k4S3GFN3xRqK"
      },
      "source": [
        "network = Network()\r\n",
        "train_loader = torch.utils.data.DataLoader(train_set, batch_size=100)\r\n",
        "optimizer = optim.Adam(network.parameters(), lr=0.01)\r\n"
      ],
      "execution_count": 8,
      "outputs": []
    },
    {
      "cell_type": "code",
      "metadata": {
        "colab": {
          "base_uri": "https://localhost:8080/"
        },
        "id": "1mDGvzyxTha3",
        "outputId": "fc700991-9bb0-4282-ef92-470e23c476a1"
      },
      "source": [
        "network = Network()\r\n",
        "train_loader = torch.utils.data.DataLoader(train_set, batch_size=100)\r\n",
        "optimizer = optim.Adam(network.parameters(), lr=0.001)\r\n",
        "\r\n",
        "for epoch in range(50):\r\n",
        "\r\n",
        "    total_loss = 0\r\n",
        "    total_correct = 0\r\n",
        "    for batch in train_loader: # Get Batch\r\n",
        "        images, labels = batch \r\n",
        "\r\n",
        "        preds = network(images) # Pass Batch\r\n",
        "        loss = F.cross_entropy(preds, labels) # Calculate Loss\r\n",
        "\r\n",
        "        optimizer.zero_grad()\r\n",
        "        loss.backward() # Calculate Gradients\r\n",
        "        optimizer.step() # Update Weights\r\n",
        "\r\n",
        "        total_loss += loss.item()\r\n",
        "        total_correct += get_num_correct(preds, labels)\r\n",
        "\r\n",
        "    print(\r\n",
        "        \"epoch\", epoch, \r\n",
        "        \"total_correct:\", total_correct, \r\n",
        "        \"loss:\", total_loss,\r\n",
        "        \"Accuracy:\", (total_correct/len(train_set)) * 100\r\n",
        "    )"
      ],
      "execution_count": 23,
      "outputs": [
        {
          "output_type": "stream",
          "text": [
            "epoch 0 total_correct: 40199 loss: 1079.3872591257095 Accuracy: 66.99833333333333\n",
            "epoch 1 total_correct: 46976 loss: 1008.9812076091766 Accuracy: 78.29333333333334\n",
            "epoch 2 total_correct: 48789 loss: 990.209684252739 Accuracy: 81.315\n",
            "epoch 3 total_correct: 49664 loss: 981.0148547887802 Accuracy: 82.77333333333333\n",
            "epoch 4 total_correct: 50205 loss: 974.6975557804108 Accuracy: 83.675\n",
            "epoch 5 total_correct: 50790 loss: 969.2768123149872 Accuracy: 84.65\n",
            "epoch 6 total_correct: 51133 loss: 965.8692858219147 Accuracy: 85.22166666666666\n",
            "epoch 7 total_correct: 51446 loss: 962.5946229696274 Accuracy: 85.74333333333334\n",
            "epoch 8 total_correct: 51514 loss: 961.6579760313034 Accuracy: 85.85666666666667\n",
            "epoch 9 total_correct: 51754 loss: 959.1803640127182 Accuracy: 86.25666666666667\n",
            "epoch 10 total_correct: 51896 loss: 957.7703030109406 Accuracy: 86.49333333333334\n",
            "epoch 11 total_correct: 52060 loss: 956.0620466470718 Accuracy: 86.76666666666667\n",
            "epoch 12 total_correct: 52153 loss: 955.1941641569138 Accuracy: 86.92166666666667\n",
            "epoch 13 total_correct: 52189 loss: 954.5078128576279 Accuracy: 86.98166666666667\n",
            "epoch 14 total_correct: 52299 loss: 953.5278606414795 Accuracy: 87.165\n",
            "epoch 15 total_correct: 52485 loss: 951.9184640645981 Accuracy: 87.47500000000001\n",
            "epoch 16 total_correct: 52627 loss: 950.3879474401474 Accuracy: 87.71166666666666\n",
            "epoch 17 total_correct: 52699 loss: 949.8946332931519 Accuracy: 87.83166666666666\n",
            "epoch 18 total_correct: 52844 loss: 948.27148604393 Accuracy: 88.07333333333334\n",
            "epoch 19 total_correct: 52916 loss: 947.5074316263199 Accuracy: 88.19333333333333\n",
            "epoch 20 total_correct: 53062 loss: 946.1057106256485 Accuracy: 88.43666666666667\n",
            "epoch 21 total_correct: 53170 loss: 944.9308955669403 Accuracy: 88.61666666666666\n",
            "epoch 22 total_correct: 53259 loss: 944.1926057338715 Accuracy: 88.765\n",
            "epoch 23 total_correct: 53348 loss: 943.215672492981 Accuracy: 88.91333333333333\n",
            "epoch 24 total_correct: 53457 loss: 942.0696902275085 Accuracy: 89.095\n",
            "epoch 25 total_correct: 53512 loss: 941.6421712636948 Accuracy: 89.18666666666667\n",
            "epoch 26 total_correct: 53636 loss: 940.1982852220535 Accuracy: 89.39333333333333\n",
            "epoch 27 total_correct: 53654 loss: 940.2684935331345 Accuracy: 89.42333333333333\n",
            "epoch 28 total_correct: 53658 loss: 939.8778740167618 Accuracy: 89.42999999999999\n",
            "epoch 29 total_correct: 53771 loss: 938.8406718969345 Accuracy: 89.61833333333334\n",
            "epoch 30 total_correct: 53789 loss: 938.6742622852325 Accuracy: 89.64833333333333\n",
            "epoch 31 total_correct: 53919 loss: 937.5300425291061 Accuracy: 89.865\n",
            "epoch 32 total_correct: 53910 loss: 937.5146069526672 Accuracy: 89.85\n",
            "epoch 33 total_correct: 54028 loss: 936.4326976537704 Accuracy: 90.04666666666667\n",
            "epoch 34 total_correct: 54034 loss: 936.4936639070511 Accuracy: 90.05666666666666\n",
            "epoch 35 total_correct: 54100 loss: 935.7518181800842 Accuracy: 90.16666666666666\n",
            "epoch 36 total_correct: 54053 loss: 936.1789618730545 Accuracy: 90.08833333333334\n",
            "epoch 37 total_correct: 54187 loss: 934.8072689771652 Accuracy: 90.31166666666667\n",
            "epoch 38 total_correct: 54133 loss: 935.395454287529 Accuracy: 90.22166666666666\n",
            "epoch 39 total_correct: 54214 loss: 934.74076628685 Accuracy: 90.35666666666667\n",
            "epoch 40 total_correct: 54227 loss: 934.3723504543304 Accuracy: 90.37833333333334\n",
            "epoch 41 total_correct: 54347 loss: 933.2917457818985 Accuracy: 90.57833333333333\n",
            "epoch 42 total_correct: 54282 loss: 933.5498354434967 Accuracy: 90.47\n",
            "epoch 43 total_correct: 54216 loss: 934.2916105985641 Accuracy: 90.36\n",
            "epoch 44 total_correct: 54272 loss: 933.9576853513718 Accuracy: 90.45333333333333\n",
            "epoch 45 total_correct: 54310 loss: 933.4278311729431 Accuracy: 90.51666666666667\n",
            "epoch 46 total_correct: 54314 loss: 933.2803511619568 Accuracy: 90.52333333333334\n",
            "epoch 47 total_correct: 54524 loss: 931.19575548172 Accuracy: 90.87333333333333\n",
            "epoch 48 total_correct: 54538 loss: 931.3373428583145 Accuracy: 90.89666666666668\n",
            "epoch 49 total_correct: 54520 loss: 931.3953094482422 Accuracy: 90.86666666666666\n"
          ],
          "name": "stdout"
        }
      ]
    },
    {
      "cell_type": "code",
      "metadata": {
        "id": "M0V1mdxVTmjA"
      },
      "source": [
        "# inference \r\n"
      ],
      "execution_count": 28,
      "outputs": []
    },
    {
      "cell_type": "code",
      "metadata": {
        "colab": {
          "base_uri": "https://localhost:8080/"
        },
        "id": "FfbVrUq50wB7",
        "outputId": "a9197f21-507a-425c-bb8f-a3048b2ec75d"
      },
      "source": [
        "image.shape"
      ],
      "execution_count": 29,
      "outputs": [
        {
          "output_type": "execute_result",
          "data": {
            "text/plain": [
              "torch.Size([1, 28, 28])"
            ]
          },
          "metadata": {
            "tags": []
          },
          "execution_count": 29
        }
      ]
    },
    {
      "cell_type": "code",
      "metadata": {
        "id": "3RkvxKi4CUt3",
        "outputId": "a66ed7a1-cb51-4d27-c546-9b4210977e31",
        "colab": {
          "base_uri": "https://localhost:8080/"
        }
      },
      "source": [
        "image.unsqueeze(0).shape, label"
      ],
      "execution_count": 30,
      "outputs": [
        {
          "output_type": "execute_result",
          "data": {
            "text/plain": [
              "(torch.Size([1, 1, 28, 28]), 4)"
            ]
          },
          "metadata": {
            "tags": []
          },
          "execution_count": 30
        }
      ]
    },
    {
      "cell_type": "code",
      "metadata": {
        "id": "MyK94BZxCaeW",
        "outputId": "39272d8b-d5a2-4055-e016-37735e43f3ed",
        "colab": {
          "base_uri": "https://localhost:8080/"
        }
      },
      "source": [
        "type(preds)"
      ],
      "execution_count": 31,
      "outputs": [
        {
          "output_type": "execute_result",
          "data": {
            "text/plain": [
              "torch.Tensor"
            ]
          },
          "metadata": {
            "tags": []
          },
          "execution_count": 31
        }
      ]
    },
    {
      "cell_type": "code",
      "metadata": {
        "id": "DMucU5ShEH4p"
      },
      "source": [
        ""
      ],
      "execution_count": 31,
      "outputs": []
    },
    {
      "cell_type": "code",
      "metadata": {
        "id": "DqM8e30eCsDw"
      },
      "source": [
        "s = network(image.unsqueeze(0))"
      ],
      "execution_count": 32,
      "outputs": []
    },
    {
      "cell_type": "code",
      "metadata": {
        "id": "QnjFc04oDK9K",
        "outputId": "0ee5559d-b0d2-4c2a-cf1c-19047a5619e2",
        "colab": {
          "base_uri": "https://localhost:8080/"
        }
      },
      "source": [
        "\r\n",
        "s"
      ],
      "execution_count": 20,
      "outputs": [
        {
          "output_type": "execute_result",
          "data": {
            "text/plain": [
              "tensor([[8.0038e-14, 8.0331e-15, 1.6151e-08, 1.9919e-10, 1.0000e+00, 3.1813e-20,\n",
              "         7.4116e-12, 1.7748e-17, 3.7619e-08, 1.4401e-11]],\n",
              "       grad_fn=<SoftmaxBackward>)"
            ]
          },
          "metadata": {
            "tags": []
          },
          "execution_count": 20
        }
      ]
    },
    {
      "cell_type": "code",
      "metadata": {
        "id": "wztYuE27DRmA",
        "outputId": "961f48ad-caea-4a40-bd5f-1d6b5da1b07c",
        "colab": {
          "base_uri": "https://localhost:8080/"
        }
      },
      "source": [
        "s.argmax().item()"
      ],
      "execution_count": 21,
      "outputs": [
        {
          "output_type": "execute_result",
          "data": {
            "text/plain": [
              "4"
            ]
          },
          "metadata": {
            "tags": []
          },
          "execution_count": 21
        }
      ]
    },
    {
      "cell_type": "code",
      "metadata": {
        "id": "Xhg2Zi9NDVlS",
        "outputId": "feb66ad1-13a6-497c-b74e-d08ca5b6604c",
        "colab": {
          "base_uri": "https://localhost:8080/"
        }
      },
      "source": [
        "tcorrect = 0\r\n",
        "for image, label in train_set:\r\n",
        "  pred_label = network(image.unsqueeze(0))\r\n",
        "  pred_label = pred_label.argmax().item()\r\n",
        "  if label == pred_label:\r\n",
        "    tcorrect += 1\r\n",
        "print(f'Accuracy: {(tcorrect/len(train_set)) * 100}')"
      ],
      "execution_count": 25,
      "outputs": [
        {
          "output_type": "stream",
          "text": [
            "Accuracy: 91.385\n"
          ],
          "name": "stdout"
        }
      ]
    },
    {
      "cell_type": "code",
      "metadata": {
        "id": "MYBBpl--E-Aa"
      },
      "source": [
        "torch.save(network, 'fmnist.onnx')"
      ],
      "execution_count": 26,
      "outputs": []
    },
    {
      "cell_type": "code",
      "metadata": {
        "id": "ZqJY7W-YNzrD"
      },
      "source": [
        "model_load = torch.load('fmnist.onnx')"
      ],
      "execution_count": 27,
      "outputs": []
    },
    {
      "cell_type": "code",
      "metadata": {
        "id": "q7Fth3AcOHNG"
      },
      "source": [
        "pr = model_load(image.unsqueeze(0))"
      ],
      "execution_count": 34,
      "outputs": []
    },
    {
      "cell_type": "code",
      "metadata": {
        "id": "tM6Y2cg4OTSM",
        "outputId": "7dd21641-6723-4a00-8602-2b0f0c7ae16a",
        "colab": {
          "base_uri": "https://localhost:8080/"
        }
      },
      "source": [
        "pr"
      ],
      "execution_count": 35,
      "outputs": [
        {
          "output_type": "execute_result",
          "data": {
            "text/plain": [
              "tensor([[9.0785e-22, 2.0790e-28, 5.4591e-11, 4.1819e-20, 1.0000e+00, 2.4126e-36,\n",
              "         2.1495e-22, 5.5445e-30, 1.0968e-25, 1.5771e-29]],\n",
              "       grad_fn=<SoftmaxBackward>)"
            ]
          },
          "metadata": {
            "tags": []
          },
          "execution_count": 35
        }
      ]
    },
    {
      "cell_type": "code",
      "metadata": {
        "id": "jSj0pmjJOeVb",
        "outputId": "2b1f4297-611a-468c-e0fe-2480ee2473f0",
        "colab": {
          "base_uri": "https://localhost:8080/"
        }
      },
      "source": [
        "pr.argmax().item()"
      ],
      "execution_count": 36,
      "outputs": [
        {
          "output_type": "execute_result",
          "data": {
            "text/plain": [
              "4"
            ]
          },
          "metadata": {
            "tags": []
          },
          "execution_count": 36
        }
      ]
    },
    {
      "cell_type": "code",
      "metadata": {
        "id": "HgPQvicnP4hZ"
      },
      "source": [
        ""
      ],
      "execution_count": null,
      "outputs": []
    },
    {
      "cell_type": "code",
      "metadata": {
        "id": "A0ZVWG6tOlgE",
        "outputId": "cfabf83b-2cf4-458e-c5b2-797dd7f7f1f7",
        "colab": {
          "base_uri": "https://localhost:8080/"
        }
      },
      "source": [
        "pr.sum().item()"
      ],
      "execution_count": 38,
      "outputs": [
        {
          "output_type": "execute_result",
          "data": {
            "text/plain": [
              "1.0"
            ]
          },
          "metadata": {
            "tags": []
          },
          "execution_count": 38
        }
      ]
    },
    {
      "cell_type": "code",
      "metadata": {
        "id": "jwKi0FIoOplu",
        "outputId": "8cd9910f-c235-4961-a3b6-ded00e67846b",
        "colab": {
          "base_uri": "https://localhost:8080/"
        }
      },
      "source": [
        "# inference\r\n",
        "image, label = train_set[59890]\r\n",
        "image = image.unsqueeze(0)\r\n",
        "prediction = model_load(image)\r\n",
        "prediction = prediction.argmax().item()\r\n",
        "if prediction == label:\r\n",
        "  print('correct result', prediction)\r\n",
        "else:\r\n",
        "  print(prediction, label, \"not equal\")\r\n"
      ],
      "execution_count": 40,
      "outputs": [
        {
          "output_type": "stream",
          "text": [
            "correct result 4\n"
          ],
          "name": "stdout"
        }
      ]
    },
    {
      "cell_type": "code",
      "metadata": {
        "id": "Mi846ed-QbwH"
      },
      "source": [
        ""
      ],
      "execution_count": null,
      "outputs": []
    }
  ]
}